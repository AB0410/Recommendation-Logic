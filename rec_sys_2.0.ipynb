{
 "cells": [
  {
   "cell_type": "code",
   "execution_count": 1,
   "metadata": {},
   "outputs": [],
   "source": [
    "import pandas as pd\n",
    "%matplotlib inline\n",
    "import matplotlib\n",
    "import matplotlib.pyplot as plt\n",
    "import numpy as np"
   ]
  },
  {
   "cell_type": "code",
   "execution_count": 2,
   "metadata": {},
   "outputs": [],
   "source": [
    "\n",
    "df = pd.read_excel('C:/Users/BASU/WORK/DATA/orders-with_price.xlsx')\n"
   ]
  },
  {
   "cell_type": "code",
   "execution_count": 3,
   "metadata": {},
   "outputs": [],
   "source": [
    "p_df = df.groupby(['Item_Name','Order_Number']).agg({'Quantity':'sum'})\n",
    "p_df.reset_index(inplace = True)"
   ]
  },
  {
   "cell_type": "code",
   "execution_count": 4,
   "metadata": {},
   "outputs": [],
   "source": [
    "prod_cust_count_df = df.groupby(['Item_Name']).agg({'Order_Number':'nunique'})"
   ]
  },
  {
   "cell_type": "code",
   "execution_count": 5,
   "metadata": {},
   "outputs": [],
   "source": [
    "prod_cust_count_df.columns=['No_of_Customers']\n",
    "prod_cust_count_df.reset_index(inplace=True)"
   ]
  },
  {
   "cell_type": "code",
   "execution_count": 6,
   "metadata": {},
   "outputs": [],
   "source": [
    "prod_cust_df = pd.merge(p_df ,prod_cust_count_df,how='inner',on='Item_Name')"
   ]
  },
  {
   "cell_type": "code",
   "execution_count": 7,
   "metadata": {},
   "outputs": [],
   "source": [
    "prod_cust_pivot_df = prod_cust_df.pivot(index='Order_Number',columns='Item_Name',values='Quantity').fillna(0)"
   ]
  },
  {
   "cell_type": "code",
   "execution_count": 8,
   "metadata": {},
   "outputs": [],
   "source": [
    "prod_correlation_df = prod_cust_pivot_df.corr(method='spearman',min_periods=5)"
   ]
  },
  {
   "cell_type": "code",
   "execution_count": 10,
   "metadata": {},
   "outputs": [],
   "source": [
    "def similar_prods(prod_name):\n",
    "    similar_prods_corr = prod_correlation_df.loc[prod_name].sort_values(ascending=False)\n",
    "    \n",
    "    #similar_prods = pd.merge(similar_prods_corr,prod_ranking_model[['Product','Rate']],how='left',on='Product')\n",
    "    \n",
    "    #prod_price = similar_prods[similar_prods['Product'] == prod_name]['Rate'].values[0]\n",
    "    \n",
    "    input_prod_index = similar_prods[similar_prods['Product'] == prod_name].index\n",
    "    similar_prods.drop(index=input_prod_index,inplace=True)\n",
    "    \n",
    "    similar_prods = similar_prods[['Product','Rate']].head(10).reset_index(drop=True)\n",
    "    \n",
    "    #print(similar_prods)\n",
    "    \n",
    "    html_code_table(similar_prods,'Customers who purchased this product also purchased these','similarprodtable','left')\n",
    "    \n",
    "    return prod_price\n"
   ]
  },
  {
   "cell_type": "code",
   "execution_count": 11,
   "metadata": {},
   "outputs": [],
   "source": [
    "prod_name = \"Chicken_Mango_Curry_\""
   ]
  },
  {
   "cell_type": "code",
   "execution_count": 12,
   "metadata": {},
   "outputs": [
    {
     "data": {
      "text/plain": [
       "Item_Name\n",
       "Chicken_Mango_Curry_             1.000000\n",
       "Pad_Thai_                        0.230390\n",
       "Chicken_Tikka_Masala_            0.213583\n",
       "Korean_Fried_Chicken_            0.125958\n",
       "Butter_Chicken_                  0.122635\n",
       "Katsu_Curry_                     0.031206\n",
       "Gimbap_                          0.022730\n",
       "Kung_Pao_Chicken_                0.010336\n",
       "Asia_BBQ_                       -0.019007\n",
       "Mapo_Tofu_                      -0.022503\n",
       "Bulgogi_                        -0.029880\n",
       "Indisches_Kichererbsen_Curry_   -0.031218\n",
       "Magic_Curry_                    -0.046903\n",
       "Indian_Masala_Chai_             -0.052620\n",
       "South_Korea_                    -0.059742\n",
       "Gado_Gado_                      -0.059861\n",
       "Nasi_Goreng_                    -0.060932\n",
       "Curry_Laksa_                    -0.061115\n",
       "Kimchi_Jeon_                    -0.063156\n",
       "Japchae_                        -0.073867\n",
       "Kimchi_                         -0.076425\n",
       "Bibimbap_                       -0.079699\n",
       "Name: Chicken_Mango_Curry_, dtype: float64"
      ]
     },
     "execution_count": 12,
     "metadata": {},
     "output_type": "execute_result"
    }
   ],
   "source": [
    "prod_correlation_df.loc[prod_name].sort_values(ascending=False)"
   ]
  },
  {
   "cell_type": "code",
   "execution_count": null,
   "metadata": {},
   "outputs": [],
   "source": []
  }
 ],
 "metadata": {
  "kernelspec": {
   "display_name": "Python 3",
   "language": "python",
   "name": "python3"
  },
  "language_info": {
   "codemirror_mode": {
    "name": "ipython",
    "version": 3
   },
   "file_extension": ".py",
   "mimetype": "text/x-python",
   "name": "python",
   "nbconvert_exporter": "python",
   "pygments_lexer": "ipython3",
   "version": "3.7.3"
  }
 },
 "nbformat": 4,
 "nbformat_minor": 2
}
